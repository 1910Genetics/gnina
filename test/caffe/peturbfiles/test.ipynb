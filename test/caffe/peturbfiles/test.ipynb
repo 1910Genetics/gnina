{
 "cells": [
  {
   "cell_type": "code",
   "execution_count": 1,
   "metadata": {},
   "outputs": [],
   "source": [
    "import caffe\n",
    "import numpy as np\n",
    "import os,sys,re\n",
    "from pyquaternion import Quaternion as qt\n",
    "\n",
    "#these might change - are also assuming the first channel is aliphatic carbon\n",
    "LIGCHANNELS = 19\n",
    "RECCHANNELS = 16\n"
   ]
  },
  {
   "cell_type": "code",
   "execution_count": 2,
   "metadata": {},
   "outputs": [],
   "source": [
    "import matplotlib.pyplot as plt\n",
    "%matplotlib inline"
   ]
  },
  {
   "cell_type": "code",
   "execution_count": 3,
   "metadata": {},
   "outputs": [],
   "source": [
    "coords = np.array([[1.061, 0.053, 0.063],[2.573, 0.053, 0.063]])\n",
    "\n",
    "def setmol(coords,fname='CC.xyz'):\n",
    "    moltemplate='''2\n",
    "\n",
    "C          %f        %f        %f\n",
    "C          %f        %f        %f\n",
    "'''\n",
    "    xyz = open(fname,'w')\n",
    "    xyz.write(moltemplate%tuple(coords.flatten()))\n",
    "    xyz.close()\n",
    "    \n",
    "setmol(coords)"
   ]
  },
  {
   "cell_type": "code",
   "execution_count": 4,
   "metadata": {},
   "outputs": [],
   "source": [
    "setmol(coords)\n",
    "net = caffe.Net('plainpeturb.model',caffe.TEST)\n",
    "res = net.forward()\n",
    "peturb = res['peturb'][0].copy() #need to copy because returned values are references to blobs\n",
    "data = res['data'][0].copy()\n",
    "\n",
    "res = net.forward()\n",
    "peturb2 = res['peturb'][0].copy()\n",
    "data2 = res['data'][0].copy()\n",
    "\n",
    "if len(peturb) != 10:\n",
    "    print(\"Wrong number of rotational numbers\")\n",
    "    \n"
   ]
  },
  {
   "cell_type": "code",
   "execution_count": 5,
   "metadata": {},
   "outputs": [
    {
     "data": {
      "text/plain": [
       "array([1.817, 0.053, 0.063])"
      ]
     },
     "execution_count": 5,
     "metadata": {},
     "output_type": "execute_result"
    }
   ],
   "source": [
    "center = coords.mean(axis=0)\n",
    "center"
   ]
  },
  {
   "cell_type": "code",
   "execution_count": 6,
   "metadata": {},
   "outputs": [
    {
     "data": {
      "text/plain": [
       "array([ 1.61221903, -0.38277371, -0.51983963])"
      ]
     },
     "execution_count": 6,
     "metadata": {},
     "output_type": "execute_result"
    }
   ],
   "source": [
    "q = qt(peturb[3:7])\n",
    "q.inverse.rotate((coords - center)[0])+center"
   ]
  },
  {
   "cell_type": "code",
   "execution_count": 7,
   "metadata": {},
   "outputs": [],
   "source": [
    "trans = peturb[:3]\n",
    "q = qt(peturb[3:7])\n",
    "newcoords = np.array(map(q.inverse.rotate,coords-center))+center-trans\n",
    "\n",
    "setmol(newcoords)\n",
    "plainnet = caffe.Net('plain.model',caffe.TEST)\n",
    "plainres = plainnet.forward()\n",
    "plaindata = plainres['data'][0].copy()\n"
   ]
  },
  {
   "cell_type": "code",
   "execution_count": 8,
   "metadata": {},
   "outputs": [
    {
     "data": {
      "text/plain": [
       "(Quaternion(0.7770933508872986, 0.17766030132770538, 0.551988959312439, -0.24468572437763214),\n",
       " array([ 2.5978243,  3.7747965, -1.7708074], dtype=float32))"
      ]
     },
     "execution_count": 8,
     "metadata": {},
     "output_type": "execute_result"
    }
   ],
   "source": [
    "q,trans"
   ]
  },
  {
   "cell_type": "code",
   "execution_count": 9,
   "metadata": {},
   "outputs": [
    {
     "data": {
      "text/plain": [
       "array([-0.78082434, -3.72179649,  1.83380739])"
      ]
     },
     "execution_count": 9,
     "metadata": {},
     "output_type": "execute_result"
    }
   ],
   "source": [
    "newcoords.mean(axis=0)"
   ]
  },
  {
   "cell_type": "code",
   "execution_count": 10,
   "metadata": {},
   "outputs": [
    {
     "data": {
      "text/plain": [
       "2.0209764e-11"
      ]
     },
     "execution_count": 10,
     "metadata": {},
     "output_type": "execute_result"
    }
   ],
   "source": [
    "np.square(plaindata - data).sum()"
   ]
  },
  {
   "cell_type": "code",
   "execution_count": 11,
   "metadata": {},
   "outputs": [
    {
     "data": {
      "text/plain": [
       "<matplotlib.image.AxesImage at 0x7f2ecf108990>"
      ]
     },
     "execution_count": 11,
     "metadata": {},
     "output_type": "execute_result"
    },
    {
     "data": {
      "image/png": "[encoded data removed]",
      "text/plain": [
       "<matplotlib.figure.Figure at 0x7f2ecef38bd0>"
      ]
     },
     "metadata": {},
     "output_type": "display_data"
    }
   ],
   "source": [
    "plt.imshow(data[0].sum(axis=0))"
   ]
  },
  {
   "cell_type": "code",
   "execution_count": 12,
   "metadata": {
    "scrolled": true
   },
   "outputs": [
    {
     "data": {
      "text/plain": [
       "<matplotlib.image.AxesImage at 0x7f2ecf029b50>"
      ]
     },
     "execution_count": 12,
     "metadata": {},
     "output_type": "execute_result"
    },
    {
     "data": {
      "image/png": "[encoded data removed]",
      "text/plain": [
       "<matplotlib.figure.Figure at 0x7f2ecf1460d0>"
      ]
     },
     "metadata": {},
     "output_type": "display_data"
    }
   ],
   "source": [
    "plt.imshow(data[RECCHANNELS].sum(axis=0))"
   ]
  },
  {
   "cell_type": "code",
   "execution_count": 13,
   "metadata": {},
   "outputs": [
    {
     "data": {
      "text/plain": [
       "<matplotlib.image.AxesImage at 0x7f2ecef9cf50>"
      ]
     },
     "execution_count": 13,
     "metadata": {},
     "output_type": "execute_result"
    },
    {
     "data": {
      "image/png": "[encoded data removed]",
      "text/plain": [
       "<matplotlib.figure.Figure at 0x7f2ecf049d50>"
      ]
     },
     "metadata": {},
     "output_type": "display_data"
    }
   ],
   "source": [
    "plt.imshow(plaindata[0].sum(axis=0))"
   ]
  },
  {
   "cell_type": "code",
   "execution_count": 14,
   "metadata": {},
   "outputs": [
    {
     "data": {
      "text/plain": [
       "<matplotlib.image.AxesImage at 0x7f2ece692fd0>"
      ]
     },
     "execution_count": 14,
     "metadata": {},
     "output_type": "execute_result"
    },
    {
     "data": {
      "image/png": "[encoded data removed]",
      "text/plain": [
       "<matplotlib.figure.Figure at 0x7f2ecefc6590>"
      ]
     },
     "metadata": {},
     "output_type": "display_data"
    }
   ],
   "source": [
    "plt.imshow(plaindata[RECCHANNELS].sum(axis=0))"
   ]
  },
  {
   "cell_type": "code",
   "execution_count": 15,
   "metadata": {},
   "outputs": [
    {
     "data": {
      "text/plain": [
       "2.6362384e-12"
      ]
     },
     "execution_count": 15,
     "metadata": {},
     "output_type": "execute_result"
    }
   ],
   "source": [
    "np.square(plaindata[0]-data[0]).sum()"
   ]
  },
  {
   "cell_type": "code",
   "execution_count": 16,
   "metadata": {
    "scrolled": true
   },
   "outputs": [
    {
     "data": {
      "text/plain": [
       "<matplotlib.image.AxesImage at 0x7f2ece605dd0>"
      ]
     },
     "execution_count": 16,
     "metadata": {},
     "output_type": "execute_result"
    },
    {
     "data": {
      "image/png": "[encoded data removed]",
      "text/plain": [
       "<matplotlib.figure.Figure at 0x7f2ecf07b990>"
      ]
     },
     "metadata": {},
     "output_type": "display_data"
    }
   ],
   "source": [
    "plt.imshow(plaindata[RECCHANNELS].sum(axis=0))"
   ]
  },
  {
   "cell_type": "code",
   "execution_count": 17,
   "metadata": {},
   "outputs": [
    {
     "data": {
      "text/plain": [
       "(array([ 0.28227581,  0.87702841, -0.38876925]), 0.6807621101430691)"
      ]
     },
     "execution_count": 17,
     "metadata": {},
     "output_type": "execute_result"
    }
   ],
   "source": [
    "q.polar_decomposition"
   ]
  },
  {
   "cell_type": "code",
   "execution_count": 18,
   "metadata": {},
   "outputs": [],
   "source": [
    "import math\n",
    "def toEuler(q):\n",
    "    '''wikipedia, I am forever in your debt'''\n",
    "    (w,x,y,z) = q.elements\n",
    "    sinr_cosp = +2.0 * (w*x + y*z);\n",
    "    cosr_cosp = +1.0 - 2.0 * (x*x + y*y);\n",
    "    roll = math.atan2(sinr_cosp, cosr_cosp)\n",
    "\n",
    "    # pitch (y-axis rotation)\n",
    "    sinp = +2.0 * (w*y - z*x);\n",
    "    if math.fabs(sinp) >= 1:\n",
    "        pitch = math.copysign(math.pi / 2, sinp) # use 90 degrees if out of range\n",
    "    else:\n",
    "        pitch = math.asin(sinp)\n",
    "\n",
    "    #yaw (z-axis rotation)\n",
    "    siny_cosp = +2.0 * (w*z + x*y);\n",
    "    cosy_cosp = +1.0 - 2.0 * (y*y + z*z);  \n",
    "    yaw = math.atan2(siny_cosp, cosy_cosp);\n",
    "    \n",
    "    return (roll,pitch,yaw)"
   ]
  },
  {
   "cell_type": "code",
   "execution_count": 19,
   "metadata": {},
   "outputs": [],
   "source": [
    "setmol(coords)\n",
    "setmol(coords,'rec.xyz')\n",
    "net = caffe.Net('rand.model',caffe.TEST)\n",
    "res = net.forward()\n",
    "data = res['data'][0].copy()"
   ]
  },
  {
   "cell_type": "code",
   "execution_count": 20,
   "metadata": {},
   "outputs": [],
   "source": [
    "l =net.layers[0]\n",
    "mt = l.get_moltransform(0)"
   ]
  },
  {
   "cell_type": "code",
   "execution_count": 73,
   "metadata": {},
   "outputs": [
    {
     "name": "stdout",
     "output_type": "stream",
     "text": [
      "[[-1.75233643  1.83239021  5.0804288 ]\n",
      " [-0.62854947  2.27988449  4.17323767]] [-1.19044295  2.05613735  4.62683324]\n"
     ]
    },
    {
     "data": {
      "text/plain": [
       "6.121551e-11"
      ]
     },
     "execution_count": 73,
     "metadata": {},
     "output_type": "execute_result"
    }
   ],
   "source": [
    "#check peturbed ligand with rotation\n",
    "center = np.mean(coords,axis=0)\n",
    "\n",
    "setmol(coords)\n",
    "setmol(coords,'rec.xyz')\n",
    "net = caffe.Net('randpeturb.model',caffe.TEST)\n",
    "res = net.forward()\n",
    "data = res['data'][0].copy()\n",
    "peturb = res['peturb'][0].copy() \n",
    "trans = peturb[:3]\n",
    "q = qt(peturb[3:7])  \n",
    "\n",
    "l =net.layers[0]\n",
    "mt = l.get_moltransform(0)\n",
    "Rtrans = -mt.center.x(),-mt.center.y(),-mt.center.z()\n",
    "Rq = qt(mt.Q.a,mt.Q.b,mt.Q.c,mt.Q.d)\n",
    "\n",
    "#first randomize, then peturb\n",
    "newreccoords = np.array(map(Rq.rotate,coords-center))+center+Rtrans\n",
    "newligcoords = np.array(map(Rq.rotate,coords-center))+center+Rtrans\n",
    "center = np.mean(newligcoords,axis=0)\n",
    "print newligcoords,center\n",
    "newligcoords = np.array(map(q.inverse.rotate,newligcoords-center))+center-trans\n",
    "\n",
    "setmol(newligcoords)\n",
    "setmol(newreccoords,'rec.xyz')\n",
    "plainnet = caffe.Net('plain.model',caffe.TEST)\n",
    "plainres = plainnet.forward()\n",
    "plaindata = plainres['data'][0].copy()\n",
    "\n",
    "diff = np.square(plaindata - data).sum()\n",
    "diff"
   ]
  },
  {
   "cell_type": "code",
   "execution_count": 72,
   "metadata": {},
   "outputs": [
    {
     "data": {
      "text/plain": [
       "(array([[1.061, 0.053, 0.063],\n",
       "        [2.573, 0.053, 0.063]]),\n",
       " array([ 1.2968907, -2.8041916,  2.785613 ], dtype=float32))"
      ]
     },
     "execution_count": 72,
     "metadata": {},
     "output_type": "execute_result"
    }
   ],
   "source": [
    "coords,trans"
   ]
  },
  {
   "cell_type": "code",
   "execution_count": 69,
   "metadata": {},
   "outputs": [
    {
     "data": {
      "text/plain": [
       "(array([[ 0.02988771, -1.44820632,  2.92229312],\n",
       "        [ 1.26441827, -0.8007472 ,  3.5078484 ]]),\n",
       " array([[0.26899037, 1.80435657, 2.98428213],\n",
       "        [0.88352438, 1.72847491, 4.36367835]]))"
      ]
     },
     "execution_count": 69,
     "metadata": {},
     "output_type": "execute_result"
    }
   ],
   "source": [
    "newreccoords,newligcoords"
   ]
  },
  {
   "cell_type": "code",
   "execution_count": 70,
   "metadata": {},
   "outputs": [
    {
     "data": {
      "text/plain": [
       "((-1.169847011566162, -1.1774767637252808, 3.1520707607269287),\n",
       " array([ 0.64715299, -1.12447676,  3.21507076]))"
      ]
     },
     "execution_count": 70,
     "metadata": {},
     "output_type": "execute_result"
    }
   ],
   "source": [
    "Rtrans,center"
   ]
  },
  {
   "cell_type": "code",
   "execution_count": 64,
   "metadata": {},
   "outputs": [
    {
     "data": {
      "text/plain": [
       "<matplotlib.image.AxesImage at 0x7f2e8ee3d6d0>"
      ]
     },
     "execution_count": 64,
     "metadata": {},
     "output_type": "execute_result"
    },
    {
     "data": {
      "image/png": "[encoded data removed]",
      "text/plain": [
       "<matplotlib.figure.Figure at 0x7f2e8f314950>"
      ]
     },
     "metadata": {},
     "output_type": "display_data"
    },
    {
     "data": {
      "image/png": "[encoded data removed]",
      "text/plain": [
       "<matplotlib.figure.Figure at 0x7f2e8eea5110>"
      ]
     },
     "metadata": {},
     "output_type": "display_data"
    }
   ],
   "source": [
    "f, (ax1,ax2) = plt.subplots(1,2)\n",
    "ax1.imshow(data[0].sum(axis=0))\n",
    "ax2.imshow(data[RECCHANNELS].sum(axis=0))\n",
    "f, (ax1,ax2) = plt.subplots(1,2)\n",
    "ax1.imshow(plaindata[0].sum(axis=0))\n",
    "ax2.imshow(plaindata[RECCHANNELS].sum(axis=0))"
   ]
  },
  {
   "cell_type": "code",
   "execution_count": null,
   "metadata": {},
   "outputs": [],
   "source": []
  },
  {
   "cell_type": "code",
   "execution_count": null,
   "metadata": {},
   "outputs": [],
   "source": []
  },
  {
   "cell_type": "code",
   "execution_count": 21,
   "metadata": {},
   "outputs": [
    {
     "data": {
      "text/plain": [
       "((3.1082372665405273, -1.0867971181869507, 3.8376243114471436),\n",
       " Quaternion(0.7312277555465698, -0.4317969083786011, 0.2525993585586548, 0.4637358486652374))"
      ]
     },
     "execution_count": 21,
     "metadata": {},
     "output_type": "execute_result"
    }
   ],
   "source": [
    "trans = -mt.center.x(),-mt.center.y(),-mt.center.z()\n",
    "q = qt(mt.Q.a,mt.Q.b,mt.Q.c,mt.Q.d)\n",
    "trans,q"
   ]
  },
  {
   "cell_type": "code",
   "execution_count": 22,
   "metadata": {},
   "outputs": [],
   "source": [
    "newcoords = np.array(map(q.rotate,coords))+trans\n"
   ]
  },
  {
   "cell_type": "code",
   "execution_count": 23,
   "metadata": {},
   "outputs": [
    {
     "data": {
      "text/plain": [
       "array([[ 3.52803904, -0.53370017,  3.03118198],\n",
       "       [ 4.19677432,  0.16189515,  1.86710111]])"
      ]
     },
     "execution_count": 23,
     "metadata": {},
     "output_type": "execute_result"
    }
   ],
   "source": [
    "newcoords"
   ]
  },
  {
   "cell_type": "code",
   "execution_count": 24,
   "metadata": {},
   "outputs": [],
   "source": [
    "setmol(newcoords)\n",
    "setmol(newcoords,'rec.xyz')\n",
    "plainnet = caffe.Net('plain.model',caffe.TEST)\n",
    "plainres = plainnet.forward()\n",
    "plaindata = plainres['data'][0].copy()\n",
    "\n",
    "diff = np.square(plaindata - data).sum()"
   ]
  },
  {
   "cell_type": "code",
   "execution_count": 25,
   "metadata": {},
   "outputs": [
    {
     "data": {
      "text/plain": [
       "(147.8159, 147.8159)"
      ]
     },
     "execution_count": 25,
     "metadata": {},
     "output_type": "execute_result"
    }
   ],
   "source": [
    "np.square(plaindata[RECCHANNELS]-data[RECCHANNELS]).sum(),np.square(plaindata[0]-data[0]).sum()"
   ]
  },
  {
   "cell_type": "code",
   "execution_count": null,
   "metadata": {},
   "outputs": [],
   "source": []
  },
  {
   "cell_type": "code",
   "execution_count": 26,
   "metadata": {},
   "outputs": [
    {
     "data": {
      "text/plain": [
       "<matplotlib.image.AxesImage at 0x7f2ece555150>"
      ]
     },
     "execution_count": 26,
     "metadata": {},
     "output_type": "execute_result"
    },
    {
     "data": {
      "image/png": "[encoded data removed]",
      "text/plain": [
       "<matplotlib.figure.Figure at 0x7f2ece5a5a90>"
      ]
     },
     "metadata": {},
     "output_type": "display_data"
    }
   ],
   "source": [
    "f, (ax1,ax2) = plt.subplots(1,2)\n",
    "ax1.imshow(data[0].sum(axis=0))\n",
    "ax2.imshow(data[RECCHANNELS].sum(axis=0))\n"
   ]
  },
  {
   "cell_type": "code",
   "execution_count": 27,
   "metadata": {},
   "outputs": [
    {
     "data": {
      "text/plain": [
       "<matplotlib.image.AxesImage at 0x7f2ec6086350>"
      ]
     },
     "execution_count": 27,
     "metadata": {},
     "output_type": "execute_result"
    },
    {
     "data": {
      "image/png": "[encoded data removed]",
      "text/plain": [
       "<matplotlib.figure.Figure at 0x7f2ece595210>"
      ]
     },
     "metadata": {},
     "output_type": "display_data"
    }
   ],
   "source": [
    "f, (ax1,ax2) = plt.subplots(1,2)\n",
    "ax1.imshow(plaindata[0].sum(axis=0))\n",
    "ax2.imshow(plaindata[RECCHANNELS].sum(axis=0))\n"
   ]
  },
  {
   "cell_type": "code",
   "execution_count": 28,
   "metadata": {},
   "outputs": [
    {
     "data": {
      "text/plain": [
       "<matplotlib.image.AxesImage at 0x7f2ec00e9450>"
      ]
     },
     "execution_count": 28,
     "metadata": {},
     "output_type": "execute_result"
    },
    {
     "data": {
      "image/png": "[encoded data removed]",
      "text/plain": [
       "<matplotlib.figure.Figure at 0x7f2ecf01b350>"
      ]
     },
     "metadata": {},
     "output_type": "display_data"
    }
   ],
   "source": [
    "plt.imshow(data[RECCHANNELS].sum(axis=0))\n"
   ]
  },
  {
   "cell_type": "code",
   "execution_count": 29,
   "metadata": {},
   "outputs": [],
   "source": [
    "setmol(coords)\n",
    "setmol(coords,'rec.xyz')\n",
    "net = caffe.Net('fullrandpeturb.model',caffe.TEST)\n",
    "res = net.forward()\n",
    "data = res['data'][0].copy()\n",
    "peturb = res['peturb'][0].copy() \n",
    "trans = peturb[:3]\n",
    "q = qt(peturb[3:7])  \n",
    "\n",
    "l =net.layers[0]\n",
    "mt = l.get_moltransform(0)\n",
    "Rtrans = -mt.center.x(),-mt.center.y(),-mt.center.z()\n",
    "Rq = qt(mt.Q.a,mt.Q.b,mt.Q.c,mt.Q.d)\n",
    "\n",
    "center = np.mean(coords,axis=0)"
   ]
  },
  {
   "cell_type": "code",
   "execution_count": 30,
   "metadata": {},
   "outputs": [
    {
     "data": {
      "text/plain": [
       "((0.854245662689209, 1.9951069355010986, 1.4428610801696777),\n",
       " array([1.817, 0.053, 0.063]))"
      ]
     },
     "execution_count": 30,
     "metadata": {},
     "output_type": "execute_result"
    }
   ],
   "source": [
    "Rtrans,center"
   ]
  },
  {
   "cell_type": "code",
   "execution_count": 31,
   "metadata": {},
   "outputs": [
    {
     "data": {
      "text/plain": [
       "array([[1.061, 0.053, 0.063],\n",
       "       [2.573, 0.053, 0.063]])"
      ]
     },
     "execution_count": 31,
     "metadata": {},
     "output_type": "execute_result"
    }
   ],
   "source": [
    "coords"
   ]
  },
  {
   "cell_type": "code",
   "execution_count": 32,
   "metadata": {},
   "outputs": [
    {
     "data": {
      "text/plain": [
       "array([[1.99501475, 2.03423696, 1.16814023],\n",
       "       [3.34747658, 2.06197691, 1.84358193]])"
      ]
     },
     "execution_count": 32,
     "metadata": {},
     "output_type": "execute_result"
    }
   ],
   "source": [
    "newreccoords = np.array(map(Rq.rotate,coords-center))+center+Rtrans\n",
    "newreccoords"
   ]
  },
  {
   "cell_type": "code",
   "execution_count": 33,
   "metadata": {
    "scrolled": true
   },
   "outputs": [
    {
     "data": {
      "text/plain": [
       "array([1.817, 0.053, 0.063])"
      ]
     },
     "execution_count": 33,
     "metadata": {},
     "output_type": "execute_result"
    }
   ],
   "source": [
    "np.mean(coords,axis=0)"
   ]
  },
  {
   "cell_type": "code",
   "execution_count": 74,
   "metadata": {},
   "outputs": [
    {
     "data": {
      "text/plain": [
       "(3.0790936e-11, 2.0944232e-11)"
      ]
     },
     "execution_count": 74,
     "metadata": {},
     "output_type": "execute_result"
    }
   ],
   "source": [
    "setmol(coords)\n",
    "setmol(coords,'rec.xyz')\n",
    "net = caffe.Net('fullrandpeturb.model',caffe.TEST)\n",
    "res = net.forward()\n",
    "data = res['data'][0].copy()\n",
    "peturb = res['peturb'][0].copy() \n",
    "trans = peturb[:3]\n",
    "q = qt(peturb[3:7])  \n",
    "\n",
    "l =net.layers[0]\n",
    "mt = l.get_moltransform(0)\n",
    "Rtrans = -mt.center.x(),-mt.center.y(),-mt.center.z()\n",
    "Rq = qt(mt.Q.a,mt.Q.b,mt.Q.c,mt.Q.d)\n",
    "\n",
    "center = np.mean(coords,axis=0)\n",
    "\n",
    "#first rotate\n",
    "newligcoords = np.array(map(Rq.rotate,coords-center))+center+Rtrans\n",
    "newreccoords = np.array(map(Rq.rotate,coords-center))+center+Rtrans\n",
    "center = np.mean(newligcoords,axis=0)\n",
    "#then peturb, using updated ligand center\n",
    "newligcoords = np.array(map(q.inverse.rotate,newligcoords-center))+center-trans\n",
    "\n",
    "setmol(newligcoords)\n",
    "setmol(newreccoords,'rec.xyz')\n",
    "plainnet = caffe.Net('plain.model',caffe.TEST)\n",
    "plainres = plainnet.forward()\n",
    "plaindata = plainres['data'][0].copy()\n",
    "\n",
    "diff = np.square(plaindata - data).sum()\n",
    "diff,np.square(plaindata[0]-data[0]).sum()"
   ]
  },
  {
   "cell_type": "code",
   "execution_count": 35,
   "metadata": {},
   "outputs": [
    {
     "data": {
      "text/plain": [
       "((-0.8328893780708313, -4.699767112731934, 1.7686649560928345),\n",
       " array([-1.10955331, -2.88140247,  4.26684061]),\n",
       " array([-2.093664  ,  1.7653646 ,  2.4351757 , -0.5831116 , -0.31520006,\n",
       "        -0.16427855,  0.7305082 ,  0.16908593,  0.71034837, -1.7314305 ],\n",
       "       dtype=float32))"
      ]
     },
     "execution_count": 35,
     "metadata": {},
     "output_type": "execute_result"
    }
   ],
   "source": [
    "Rtrans,np.mean(newligcoords,axis=0),peturb"
   ]
  },
  {
   "cell_type": "code",
   "execution_count": 36,
   "metadata": {},
   "outputs": [
    {
     "data": {
      "text/plain": [
       "(-0.8328893780708313, -4.699767112731934, 1.7686649560928345)"
      ]
     },
     "execution_count": 36,
     "metadata": {},
     "output_type": "execute_result"
    }
   ],
   "source": [
    "Rtrans"
   ]
  },
  {
   "cell_type": "code",
   "execution_count": 37,
   "metadata": {},
   "outputs": [
    {
     "data": {
      "text/plain": [
       "<matplotlib.image.AxesImage at 0x7f2ec00348d0>"
      ]
     },
     "execution_count": 37,
     "metadata": {},
     "output_type": "execute_result"
    },
    {
     "data": {
      "image/png": "[encoded data removed]",
      "text/plain": [
       "<matplotlib.figure.Figure at 0x7f2ecefbc490>"
      ]
     },
     "metadata": {},
     "output_type": "display_data"
    }
   ],
   "source": [
    "f, (ax1,ax2) = plt.subplots(1,2)\n",
    "ax1.imshow(data[0].sum(axis=0))\n",
    "ax2.imshow(data[RECCHANNELS].sum(axis=0))"
   ]
  },
  {
   "cell_type": "code",
   "execution_count": 38,
   "metadata": {},
   "outputs": [
    {
     "data": {
      "text/plain": [
       "<matplotlib.image.AxesImage at 0x7f2e8f549a50>"
      ]
     },
     "execution_count": 38,
     "metadata": {},
     "output_type": "execute_result"
    },
    {
     "data": {
      "image/png": "[encoded data removed]",
      "text/plain": [
       "<matplotlib.figure.Figure at 0x7f2ec0072f90>"
      ]
     },
     "metadata": {},
     "output_type": "display_data"
    }
   ],
   "source": [
    "f, (ax1,ax2) = plt.subplots(1,2)\n",
    "ax1.imshow(plaindata[0].sum(axis=0))\n",
    "ax2.imshow(plaindata[RECCHANNELS].sum(axis=0))\n"
   ]
  },
  {
   "cell_type": "code",
   "execution_count": 39,
   "metadata": {},
   "outputs": [
    {
     "data": {
      "text/plain": [
       "1.750977e-11"
      ]
     },
     "execution_count": 39,
     "metadata": {},
     "output_type": "execute_result"
    }
   ],
   "source": [
    "np.square(plaindata[0]-data[0]).sum()"
   ]
  },
  {
   "cell_type": "code",
   "execution_count": 40,
   "metadata": {},
   "outputs": [
    {
     "data": {
      "text/plain": [
       "array([[ 0.32588257, -4.57999158,  2.19746937],\n",
       "       [ 1.64233867, -4.71354264,  1.46586055]])"
      ]
     },
     "execution_count": 40,
     "metadata": {},
     "output_type": "execute_result"
    }
   ],
   "source": [
    "newreccoords"
   ]
  },
  {
   "cell_type": "code",
   "execution_count": null,
   "metadata": {},
   "outputs": [],
   "source": []
  }
 ],
 "metadata": {
  "kernelspec": {
   "display_name": "Python 2",
   "language": "python",
   "name": "python2"
  },
  "language_info": {
   "codemirror_mode": {
    "name": "ipython",
    "version": 2
   },
   "file_extension": ".py",
   "mimetype": "text/x-python",
   "name": "python",
   "nbconvert_exporter": "python",
   "pygments_lexer": "ipython2",
   "version": "2.7.12"
  }
 },
 "nbformat": 4,
 "nbformat_minor": 2
}
